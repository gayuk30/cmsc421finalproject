{
  "cells": [
    {
      "cell_type": "code",
      "execution_count": 12,
      "metadata": {
        "colab": {
          "base_uri": "https://localhost:8080/"
        },
        "id": "_vEg59Lsw9Dk",
        "outputId": "2781d4d7-dfdd-4531-fb9f-7fcd49824bdf"
      },
      "outputs": [
        {
          "name": "stdout",
          "output_type": "stream",
          "text": [
            "Requirement already satisfied: youtube-transcript-api in /Users/gayathrikrishnan/.pyenv/versions/3.12.0/lib/python3.12/site-packages (0.6.2)\n",
            "Requirement already satisfied: requests in /Users/gayathrikrishnan/.pyenv/versions/3.12.0/lib/python3.12/site-packages (from youtube-transcript-api) (2.27.1)\n",
            "Requirement already satisfied: urllib3<1.27,>=1.21.1 in /Users/gayathrikrishnan/.pyenv/versions/3.12.0/lib/python3.12/site-packages (from requests->youtube-transcript-api) (1.26.9)\n",
            "Requirement already satisfied: certifi>=2017.4.17 in /Users/gayathrikrishnan/.pyenv/versions/3.12.0/lib/python3.12/site-packages (from requests->youtube-transcript-api) (2019.11.28)\n",
            "Requirement already satisfied: charset-normalizer~=2.0.0 in /Users/gayathrikrishnan/.pyenv/versions/3.12.0/lib/python3.12/site-packages (from requests->youtube-transcript-api) (2.0.12)\n",
            "Requirement already satisfied: idna<4,>=2.5 in /Users/gayathrikrishnan/.pyenv/versions/3.12.0/lib/python3.12/site-packages (from requests->youtube-transcript-api) (3.3)\n",
            "Note: you may need to restart the kernel to use updated packages.\n",
            "Requirement already satisfied: openai==0.28 in /Users/gayathrikrishnan/.pyenv/versions/3.12.0/lib/python3.12/site-packages (0.28.0)\n",
            "Requirement already satisfied: requests>=2.20 in /Users/gayathrikrishnan/.pyenv/versions/3.12.0/lib/python3.12/site-packages (from openai==0.28) (2.27.1)\n",
            "Requirement already satisfied: tqdm in /Users/gayathrikrishnan/.pyenv/versions/3.12.0/lib/python3.12/site-packages (from openai==0.28) (4.66.4)\n",
            "Requirement already satisfied: aiohttp in /Users/gayathrikrishnan/.pyenv/versions/3.12.0/lib/python3.12/site-packages (from openai==0.28) (3.9.5)\n",
            "Requirement already satisfied: urllib3<1.27,>=1.21.1 in /Users/gayathrikrishnan/.pyenv/versions/3.12.0/lib/python3.12/site-packages (from requests>=2.20->openai==0.28) (1.26.9)\n",
            "Requirement already satisfied: certifi>=2017.4.17 in /Users/gayathrikrishnan/.pyenv/versions/3.12.0/lib/python3.12/site-packages (from requests>=2.20->openai==0.28) (2019.11.28)\n",
            "Requirement already satisfied: charset-normalizer~=2.0.0 in /Users/gayathrikrishnan/.pyenv/versions/3.12.0/lib/python3.12/site-packages (from requests>=2.20->openai==0.28) (2.0.12)\n",
            "Requirement already satisfied: idna<4,>=2.5 in /Users/gayathrikrishnan/.pyenv/versions/3.12.0/lib/python3.12/site-packages (from requests>=2.20->openai==0.28) (3.3)\n",
            "Requirement already satisfied: aiosignal>=1.1.2 in /Users/gayathrikrishnan/.pyenv/versions/3.12.0/lib/python3.12/site-packages (from aiohttp->openai==0.28) (1.3.1)\n",
            "Requirement already satisfied: attrs>=17.3.0 in /Users/gayathrikrishnan/.pyenv/versions/3.12.0/lib/python3.12/site-packages (from aiohttp->openai==0.28) (23.2.0)\n",
            "Requirement already satisfied: frozenlist>=1.1.1 in /Users/gayathrikrishnan/.pyenv/versions/3.12.0/lib/python3.12/site-packages (from aiohttp->openai==0.28) (1.4.1)\n",
            "Requirement already satisfied: multidict<7.0,>=4.5 in /Users/gayathrikrishnan/.pyenv/versions/3.12.0/lib/python3.12/site-packages (from aiohttp->openai==0.28) (6.0.5)\n",
            "Requirement already satisfied: yarl<2.0,>=1.0 in /Users/gayathrikrishnan/.pyenv/versions/3.12.0/lib/python3.12/site-packages (from aiohttp->openai==0.28) (1.9.4)\n",
            "Note: you may need to restart the kernel to use updated packages.\n"
          ]
        }
      ],
      "source": [
        "# Install the required libraries\n",
        "%pip install youtube-transcript-api\n",
        "%pip install openai==0.28\n"
      ]
    },
    {
      "cell_type": "code",
      "execution_count": 2,
      "metadata": {
        "colab": {
          "base_uri": "https://localhost:8080/",
          "height": 393
        },
        "id": "Gcg_1Dj_y0YF",
        "outputId": "9776dfc2-e404-41d9-e271-fcb98f211a7a"
      },
      "outputs": [
        {
          "name": "stdout",
          "output_type": "stream",
          "text": [
            "Fetching transcript...\n",
            "Transcript fetched. Generating summary...\n",
            "Summary: In this Crash Course US History episode on the Civil War, John Green starts by highlighting that the focus will not be on battles and tactics, nor on excessive praise or criticism of Abraham Lincoln. Instead, the episode delves into the key facts and causes of the American Civil War, which took place from 1861 to 1865. The conflict involved the Union (the North) fighting against the Confederate States of America (the South), with slavery being identified as the primary cause of the war by both Northerners and Southerners.\n",
            "\n",
            "Green discusses the significance of border states like Kentucky, Missouri, Delaware, and Maryland, which allowed slavery but remained part of the Union. He emphasizes that the war was fundamentally about slavery, despite other arguments that suggest it was about agriculture versus industry or states’ rights. The episode also touches on the religious motivations for both sides in the conflict.\n",
            "\n",
            "The Union's eventual victory is attributed to its significant advantages, such as a larger population, superior industrial capacity, and better infrastructure. The episode highlights the leadership of figures like Robert E. Lee, Stonewall Jackson, and J.E.B. Stuart on the Confederate side, contrasting them with Union generals like Ulysses Grant, who adopted a strategy of attrition to wear down the South.\n",
            "\n",
            "Green discusses the turning points of the Civil War, notably the Union victories at Vicksburg and Gettysburg in July 1863, and Sherman's capture of Atlanta in August 1864. These victories shifted the tide of the war in favor of the North and ultimately contributed to the Confederacy's defeat. The episode also emphasizes the political significance of the war, including Lincoln's reelection in 1864 and his commitment to ending the conflict with a Union victory.\n",
            "\n",
            "Overall, the episode provides a detailed overview of the American Civil War, focusing on key events, strategies, and motivations that shaped the outcome of the conflict. It underscores the complexity of the war's causes and consequences, highlighting the role of military victories and political decisions in determining the ultimate outcome.\n"
          ]
        }
      ],
      "source": [
        "import openai\n",
        "from getpass import getpass\n",
        "from youtube_transcript_api import YouTubeTranscriptApi\n",
        "\n",
        "# Securely input your OpenAI API key\n",
        "api_key = getpass(\"Enter your OpenAI API key: \")\n",
        "openai.api_key = api_key\n",
        "\n",
        "def get_video_id(url):\n",
        "    from urllib.parse import urlparse, parse_qs\n",
        "    query = urlparse(url).query\n",
        "    video_id = parse_qs(query).get('v')\n",
        "    return video_id[0] if video_id else None\n",
        "\n",
        "def fetch_transcript(video_id):\n",
        "    try:\n",
        "        transcript_list = YouTubeTranscriptApi.get_transcript(video_id)\n",
        "        transcript_text = ' '.join([item['text'] for item in transcript_list])\n",
        "        return transcript_text\n",
        "    except Exception as e:\n",
        "        print(\"Failed to fetch transcript:\", str(e))\n",
        "        return None\n",
        "\n",
        "def summarize_text(text):\n",
        "    try:\n",
        "        response = openai.ChatCompletion.create(\n",
        "            model=\"gpt-3.5-turbo\",\n",
        "            messages=[\n",
        "                {\"role\": \"system\", \"content\": \"You are a helpful assistant tasked with providing a comprehensive summary that covers all key points in detail.\"},\n",
        "                {\"role\": \"user\", \"content\": text}\n",
        "            ],\n",
        "            temperature=0.5,  # Slightly more creative\n",
        "            max_tokens=600    # Allow for a longer response\n",
        "        )\n",
        "        summary = response.choices[0].message['content']  # Correct attribute access for chat responses\n",
        "        return summary\n",
        "    except Exception as e:\n",
        "        print(\"Error during summarization:\", str(e))\n",
        "        return str(e)\n",
        "\n",
        "# Example usage\n",
        "if __name__ == \"__main__\":\n",
        "    video_url = input(\"Enter the YouTube video URL: \")\n",
        "    video_id = get_video_id(video_url)\n",
        "    if video_id:\n",
        "        print(\"Fetching transcript...\")\n",
        "        transcript = fetch_transcript(video_id)\n",
        "        if transcript:\n",
        "            print(\"Transcript fetched. Generating summary...\")\n",
        "            summary = summarize_text(transcript)\n",
        "            print(\"Summary:\", summary)\n",
        "        else:\n",
        "            print(\"Failed to fetch transcript.\")\n",
        "    else:\n",
        "        print(\"Invalid YouTube URL\")\n"
      ]
    }
  ],
  "metadata": {
    "colab": {
      "provenance": []
    },
    "kernelspec": {
      "display_name": "Python 3",
      "name": "python3"
    },
    "language_info": {
      "codemirror_mode": {
        "name": "ipython",
        "version": 3
      },
      "file_extension": ".py",
      "mimetype": "text/x-python",
      "name": "python",
      "nbconvert_exporter": "python",
      "pygments_lexer": "ipython3",
      "version": "3.12.0"
    }
  },
  "nbformat": 4,
  "nbformat_minor": 0
}
